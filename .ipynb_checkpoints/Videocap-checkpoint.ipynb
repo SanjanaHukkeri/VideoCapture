{
 "cells": [
  {
   "cell_type": "code",
   "execution_count": 1,
   "metadata": {},
   "outputs": [
    {
     "ename": "ModuleNotFoundError",
     "evalue": "No module named 'keras'",
     "output_type": "error",
     "traceback": [
      "\u001b[1;31m---------------------------------------------------------------------------\u001b[0m",
      "\u001b[1;31mModuleNotFoundError\u001b[0m                       Traceback (most recent call last)",
      "\u001b[1;32m<ipython-input-1-e467534d05b3>\u001b[0m in \u001b[0;36m<module>\u001b[1;34m\u001b[0m\n\u001b[0;32m      4\u001b[0m \u001b[1;33m\u001b[0m\u001b[0m\n\u001b[0;32m      5\u001b[0m \u001b[1;32mfrom\u001b[0m \u001b[0mPIL\u001b[0m \u001b[1;32mimport\u001b[0m \u001b[0mImage\u001b[0m\u001b[1;33m\u001b[0m\u001b[1;33m\u001b[0m\u001b[0m\n\u001b[1;32m----> 6\u001b[1;33m \u001b[1;32mfrom\u001b[0m \u001b[0mkeras\u001b[0m\u001b[1;33m.\u001b[0m\u001b[0mmodels\u001b[0m \u001b[1;32mimport\u001b[0m \u001b[0mload_model\u001b[0m\u001b[1;33m\u001b[0m\u001b[1;33m\u001b[0m\u001b[0m\n\u001b[0m\u001b[0;32m      7\u001b[0m \u001b[1;32mfrom\u001b[0m \u001b[0mkeras\u001b[0m\u001b[1;33m.\u001b[0m\u001b[0mpreprocessing\u001b[0m\u001b[1;33m.\u001b[0m\u001b[0mimage\u001b[0m \u001b[1;32mimport\u001b[0m \u001b[0mImageDataGenerator\u001b[0m\u001b[1;33m\u001b[0m\u001b[1;33m\u001b[0m\u001b[0m\n\u001b[0;32m      8\u001b[0m \u001b[1;33m\u001b[0m\u001b[0m\n",
      "\u001b[1;31mModuleNotFoundError\u001b[0m: No module named 'keras'"
     ]
    }
   ],
   "source": [
    "\n",
    "\n",
    "import numpy as np\n",
    "import cv2\n",
    "import time\n",
    "\n",
    "from PIL import Image\n",
    "from keras.models import load_model\n",
    "from keras.preprocessing.image import ImageDataGenerator\n",
    "\n",
    "#model = load_model(\"D:/Sign language detection/model4_0.9823.h5\")\n",
    "\n",
    "num_frames=0\n",
    "cap=cv2.VideoCapture(0)\n",
    "\n",
    "\n",
    "data = ImageDataGenerator(samplewise_center=True, samplewise_std_normalization=True)\n",
    "\n",
    "\n",
    "\n",
    "prev = int(time.time())\n",
    "k=0\n",
    "\n",
    "while(True):\n",
    "\n",
    "    ret,frame=cap.read()\n",
    "\n",
    "    \n",
    "    cv2.imshow(\"from Video Feed\",frame)\n",
    "    k=cv2.waitKey(1)\n",
    "\n",
    "    if(int(time.time()) == (prev + 2)):\n",
    "        #ret,frame=cap.read()\n",
    "        #frame=imutils.resize(frame,width=700)\n",
    "        #frame = cv2.flip(frame, 1)\n",
    "        clone=frame.copy()\n",
    "        \n",
    "\n",
    "        #ret,frame=cap.read()\n",
    "        roi=frame[top_left[1]:bottom_right[1],top_left[0]:bottom_right[0]]\n",
    "\n",
    "        roi = cv2.resize(roi, (128,128))\n",
    "        roi = cv2.normalize(roi, None, alpha=0, beta = 1, norm_type = cv2.NORM_MINMAX, dtype = cv2.CV_32F)\n",
    "        roi = roi[np.newaxis,:]\n",
    "        #roi = data.apply_transform(roi)\n",
    "        #cv2.imshow('Sign shown',roi)\n",
    "        #print(np.argmax(model.predict(roi)))\n",
    "        #cv2.waitKey(125)\n",
    "        prev=int(time.time())\n",
    "    \n",
    "    if cv2.waitKey(25) & 0xFF == ord('q'): \n",
    "            break\n",
    "\n",
    "  \n",
    "\n",
    "cap.release()\n",
    "cv2.destroyAllWindows()\n",
    "\n",
    "\n",
    "\n",
    "\n",
    "\n",
    "\n"
   ]
  },
  {
   "cell_type": "code",
   "execution_count": null,
   "metadata": {},
   "outputs": [],
   "source": []
  }
 ],
 "metadata": {
  "kernelspec": {
   "display_name": "Python 3",
   "language": "python",
   "name": "python3"
  },
  "language_info": {
   "codemirror_mode": {
    "name": "ipython",
    "version": 3
   },
   "file_extension": ".py",
   "mimetype": "text/x-python",
   "name": "python",
   "nbconvert_exporter": "python",
   "pygments_lexer": "ipython3",
   "version": "3.7.6"
  }
 },
 "nbformat": 4,
 "nbformat_minor": 4
}
